{
 "cells": [
  {
   "cell_type": "markdown",
   "metadata": {},
   "source": [
    "# Homework 02\r\n",
    "## Goal\r\n",
    "Represent digits '3' in 2D.  \r\n",
    "* convert data from the UCI [Optical Recognition of Handwritten Digits Data Set](http://archive.ics.uci.edu/ml/datasets/Optical+Recognition+of+Handwritten+Digits)\r\n",
    "* perform PCA over all digit '3' with 2 components\r\n",
    "* plot the PCA results as below (also in page #12 of PCA )\r\n",
    "## Requirements\r\n",
    "* Programming lanuage: python3\r\n",
    "* Optional package: tensorflow web or pytorch\r\n",
    "* Plot the results in matplotlib Introduction in Chinese Tutorial"
   ]
  },
  {
   "cell_type": "code",
   "execution_count": null,
   "metadata": {},
   "outputs": [],
   "source": []
  }
 ],
 "metadata": {
  "interpreter": {
   "hash": "fcf1d46d271c46101d6967829d4a5f475342a2ce08e4944f989fbcdc9bb23690"
  },
  "kernelspec": {
   "display_name": "Python 3.9.6 64-bit",
   "name": "python3"
  },
  "language_info": {
   "name": "python",
   "version": ""
  },
  "orig_nbformat": 4
 },
 "nbformat": 4,
 "nbformat_minor": 2
}