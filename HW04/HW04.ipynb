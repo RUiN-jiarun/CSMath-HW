{
 "cells": [
  {
   "cell_type": "markdown",
   "metadata": {},
   "source": [
    "# HW04 L-M Algorithm\r\n",
    "\r\n",
    "## Goal\r\n",
    "Implement the Levenberg-Marquardt algorithm  \r\n",
    "\r\n",
    "* Design your own test functions, two variable functions are highly recommended.\r\n",
    "* Plot the iteration steps  \r\n",
    "\r\n",
    "## Environment\r\n",
    "* Python 3.9\r\n",
    "* Jupyter Notebook\r\n",
    "* numpy, matplotlib\r\n",
    "* pytorch 1.12+"
   ]
  },
  {
   "cell_type": "code",
   "execution_count": 1,
   "metadata": {},
   "outputs": [],
   "source": [
    "import torch \r\n",
    "from typing import Union, Callable, List, Tuple\r\n",
    "\r\n",
    "def jacobian_approx(p, f):\r\n",
    "\r\n",
    "    try:\r\n",
    "        J = torch.autograd.functional.jacobian(f, p, vectorize=True) # create_graph=True\r\n",
    "    except RuntimeError:\r\n",
    "        J = torch.autograd.functional.jacobian(f, p, strict=True, vectorize=False)\r\n",
    "\r\n",
    "    return J\r\n",
    "\r\n",
    "def LM( p: torch.Tensor,\r\n",
    "        function: Callable, \r\n",
    "        data: Union[Tuple, List] = (), \r\n",
    "        ftol: float = 1e-8,\r\n",
    "        ptol: float = 1e-8,\r\n",
    "        gtol: float = 1e-8,\r\n",
    "        tau: float = 1e-3,\r\n",
    "        rho1: float = 0.25, \r\n",
    "        rho2: float = 0.75, \r\n",
    "        bet: float = 2,\r\n",
    "        gam: float = 3,\r\n",
    "        max_iter: int = 50,\r\n",
    "    ) -> List[torch.Tensor]:\r\n",
    "    \"\"\"\r\n",
    "    Levenberg-Marquardt implementation for least-squares fitting of non-linear functions\r\n",
    "    \r\n",
    "    :param p: initial value(s)\r\n",
    "    :param function: user-provided function which takes p (and additional arguments) as input\r\n",
    "    :param data: optional arguments passed to function\r\n",
    "    :param ftol: relative change in cost function as stop condition\r\n",
    "    :param ptol: relative change in independant variables as stop condition\r\n",
    "    :param gtol: maximum gradient tolerance as stop condition\r\n",
    "    :param tau: factor to initialize damping parameter\r\n",
    "    :param rho1: first gain factor threshold for damping parameter adjustment for Marquardt\r\n",
    "    :param rho2: second gain factor threshold for damping parameter adjustment for Marquardt\r\n",
    "    :param bet: multiplier for damping parameter adjustment for Marquardt\r\n",
    "    :param gam: divisor for damping parameter adjustment for Marquardt\r\n",
    "    :param max_iter: maximum number of iterations\r\n",
    "    :return: list of results\r\n",
    "    \"\"\"\r\n",
    "\r\n",
    "\r\n",
    "    fun = lambda p: function(p, *data)\r\n",
    "\r\n",
    "    # use numerical Jacobian if analytical is not provided\r\n",
    "    jac_fun = lambda p: jacobian_approx(p, f=fun)\r\n",
    "\r\n",
    "    f = fun(p)\r\n",
    "    J = jac_fun(p)\r\n",
    "    g = torch.matmul(J.T, f)\r\n",
    "    H = torch.matmul(J.T, J)\r\n",
    "    mu = tau * torch.max(torch.diag(H))\r\n",
    "    v = 2\r\n",
    "\r\n",
    "    p_list = [p]\r\n",
    "    cnt = 0\r\n",
    "    while cnt < max_iter:\r\n",
    "        I = torch.eye(J.shape[1], device=J.device)\r\n",
    "        I *= torch.max(torch.maximum(H.diagonal(), I.diagonal()))\r\n",
    "        h = -torch.linalg.lstsq(H + mu * I, g, rcond=None, driver=None)[0]   # least square\r\n",
    "        f_h = fun(p + h)\r\n",
    "        rho_denom = torch.matmul(h, mu * h - g)\r\n",
    "        rho_nom = torch.matmul(f, f) - torch.matmul(f_h, f_h)\r\n",
    "\r\n",
    "        if rho_denom > 0:\r\n",
    "            rho = rho_nom / rho_denom  \r\n",
    "        elif rho_nom > 0:\r\n",
    "            rho = torch.inf\r\n",
    "        else:\r\n",
    "            rho = -torch.inf\r\n",
    "\r\n",
    "        if rho > 0:\r\n",
    "            p = p + h\r\n",
    "            J = jac_fun(p)\r\n",
    "            g = torch.matmul(J.T, fun(p))\r\n",
    "            H = torch.matmul(J.T, J)\r\n",
    "        p_list.append(p.clone())\r\n",
    "        f_prev = f.clone()\r\n",
    "        f = fun(p)\r\n",
    "\r\n",
    "        if rho < rho1:\r\n",
    "            mu *= bet \r\n",
    "        elif rho > rho2: \r\n",
    "            mu /= gam \r\n",
    "\r\n",
    "        # stop iteration\r\n",
    "        gcon = max(abs(g)) < gtol\r\n",
    "        pcon = (h**2).sum()**0.5 < ptol*(ptol + (p**2).sum()**0.5)\r\n",
    "        fcon = ((f_prev-f)**2).sum() < ((ftol*f)**2).sum() if rho > 0 else False\r\n",
    "        if gcon or pcon or fcon:\r\n",
    "            break\r\n",
    "        cnt += 1\r\n",
    "\r\n",
    "    return p_list\r\n"
   ]
  },
  {
   "cell_type": "code",
   "execution_count": 2,
   "metadata": {},
   "outputs": [
    {
     "name": "stdout",
     "output_type": "stream",
     "text": [
      "gt params:  tensor([ 8.0000, -1.0000, 60.0000,  7.5000], dtype=torch.float64)\n",
      "total iters:  23\n",
      "estimate params:  tensor([ 7.9999, -0.9999, 60.0004,  7.5014], dtype=torch.float64)\n",
      "eps =  0.00019768442578916619\n"
     ]
    }
   ],
   "source": [
    "def emg_model(p, t: torch.Tensor = None):\r\n",
    "\r\n",
    "    alpha, mu, sigma, eta = p\r\n",
    "\r\n",
    "    gauss_term = lambda t, mu, sigma: torch.exp(-0.5 * (t-mu)**2 / sigma**2)\r\n",
    "    asymm_term = lambda t, mu, sigma, eta: 1 + torch.erf(eta * (t-mu) / (sigma * 2**0.5))\r\n",
    "\r\n",
    "    alpha = 1 if alpha is None else alpha\r\n",
    "    gauss = gauss_term(t, mu, sigma)\r\n",
    "    asymm = asymm_term(t, mu, sigma, eta)\r\n",
    "\r\n",
    "    return alpha * gauss * asymm\r\n",
    "\r\n",
    "torch.seed()\r\n",
    "device = torch.device(\"cuda\" if torch.cuda.is_available() else \"cpu\")\r\n",
    "\r\n",
    "norm, mean, sigm, skew = 8, -1, 60, 7.5\r\n",
    "\r\n",
    "gt_params = torch.tensor([norm, mean, sigm, skew], dtype=torch.float64, device=device)\r\n",
    "init_params = torch.tensor([5.5, -0.75, 10, 3], dtype=torch.float64, device=device, requires_grad=True)\r\n",
    "cost_fun = lambda p, t, y: (y - emg_model(p, t))**2\r\n",
    "\r\n",
    "print('gt params: ', gt_params.detach().cpu())\r\n",
    "\r\n",
    "t = torch.linspace(-1e2, 1e2, int(2e2)).to(device)\r\n",
    "data = emg_model(gt_params, t)\r\n",
    "data_raw = data + 0.001 * torch.randn(len(data), dtype=torch.float64, device=device)\r\n",
    "\r\n",
    "coeffs = LM(p=init_params, function=cost_fun, data=(t, data_raw))\r\n",
    "\r\n",
    "ret_params = torch.allclose(coeffs[-1], gt_params, atol=1e-1)\r\n",
    "print('total iters: ', len(coeffs))\r\n",
    "print('estimate params: ', coeffs[-1].detach().cpu())\r\n",
    "eps_list = []\r\n",
    "for i in range(len(coeffs)):\r\n",
    "    eps_list.append(torch.sum(cost_fun(coeffs[i], t=t, y=data_raw)).item())\r\n",
    "print('eps = ', eps_list[-1])\r\n",
    "\r\n"
   ]
  },
  {
   "cell_type": "code",
   "execution_count": 3,
   "metadata": {},
   "outputs": [
    {
     "data": {
      "image/png": "[encoded data removed]",
      "text/plain": [
       "<Figure size 432x288 with 1 Axes>"
      ]
     },
     "metadata": {
      "needs_background": "light"
     },
     "output_type": "display_data"
    },
    {
     "data": {
      "image/png": "[encoded data removed]",
      "text/plain": [
       "<Figure size 432x288 with 1 Axes>"
      ]
     },
     "metadata": {
      "needs_background": "light"
     },
     "output_type": "display_data"
    }
   ],
   "source": [
    "import matplotlib.pyplot as plt\r\n",
    "\r\n",
    "plt.plot(eps_list)\r\n",
    "plt.title('Loss curve')\r\n",
    "plt.ylabel('epsilon')\r\n",
    "plt.xlabel('iters') \r\n",
    "plt.show()\r\n",
    "\r\n",
    "dot = plt.scatter(t.cpu(), data_raw.cpu(), s=0.2)\r\n",
    "l1, = plt.plot(data.detach().cpu(), color='blue')\r\n",
    "l2, = plt.plot(emg_model(coeffs[-1], t).detach().cpu(), 'r:')\r\n",
    "plt.legend(handles=[dot, l1, l2], labels=['data_raw','gt_function', 'estimate_function'], loc='upper left')\r\n",
    "plt.show()"
   ]
  }
 ],
 "metadata": {
  "interpreter": {
   "hash": "fcf1d46d271c46101d6967829d4a5f475342a2ce08e4944f989fbcdc9bb23690"
  },
  "kernelspec": {
   "display_name": "Python 3.9.6 64-bit",
   "name": "python3"
  },
  "language_info": {
   "codemirror_mode": {
    "name": "ipython",
    "version": 3
   },
   "file_extension": ".py",
   "mimetype": "text/x-python",
   "name": "python",
   "nbconvert_exporter": "python",
   "pygments_lexer": "ipython3",
   "version": "3.9.6"
  },
  "orig_nbformat": 4
 },
 "nbformat": 4,
 "nbformat_minor": 2
}